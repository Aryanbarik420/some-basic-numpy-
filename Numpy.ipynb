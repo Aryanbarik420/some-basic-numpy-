{
 "cells": [
  {
   "cell_type": "markdown",
   "id": "bb3e7543",
   "metadata": {},
   "source": [
    "import numpy as np"
   ]
  },
  {
   "cell_type": "code",
   "execution_count": 20,
   "id": "cfd2daa7",
   "metadata": {},
   "outputs": [
    {
     "name": "stdout",
     "output_type": "stream",
     "text": [
      "[[1 2 3]\n",
      " [4 5 6]]\n",
      "[ 1  2  3  4  5  6  7  8  9 10 11 12 13 14 15 16]\n",
      "Array : [ 1  2  3  4  5  6  7  8  9 10 11 12 13 14 15 16]\n"
     ]
    }
   ],
   "source": [
    "arr=np.array([[1,2,3],[4,5,6]])#by default created from list\n",
    "print(arr)\n",
    "\n",
    "\n",
    "array = np.array([1, 2, 3, 4, 5, 6, 7, 8, 9, 10, 11, 12, 13, 14, 15, 16])\n",
    " \n",
    "# printing array\n",
    "print(array) #pythons this method is bydefault print the array in string form\n",
    "print(\"Array : \" + str(array)) \n",
    " "
   ]
  },
  {
   "cell_type": "code",
   "execution_count": 3,
   "id": "71a0dfcf",
   "metadata": {},
   "outputs": [
    {
     "name": "stdout",
     "output_type": "stream",
     "text": [
      "Array is of type <class 'numpy.ndarray'>\n",
      "Array dimension: 2\n",
      "Shape of array (2, 3)\n",
      "size of array 6\n",
      "datatype of stored elements int32\n"
     ]
    }
   ],
   "source": [
    "print(\"Array is of type\",type(arr))\n",
    "print(\"Array dimension:\",arr.ndim)\n",
    "print(\"Shape of array\",arr.shape)\n",
    "print(\"size of array\",arr.size)\n",
    "print(\"datatype of stored elements\",arr.dtype)"
   ]
  },
  {
   "cell_type": "code",
   "execution_count": 4,
   "id": "49660b61",
   "metadata": {},
   "outputs": [
    {
     "name": "stdout",
     "output_type": "stream",
     "text": [
      "[[ 1  2  3]\n",
      " [ 6  7  8]\n",
      " [ 9 10 11]]\n"
     ]
    }
   ],
   "source": [
    "import numpy as np\n",
    "a=np.array([(1,2,3),(6,7,8),(9,10,11)])#array created from tupple\n",
    "print(a)"
   ]
  },
  {
   "cell_type": "code",
   "execution_count": 5,
   "id": "79a8cee5",
   "metadata": {},
   "outputs": [
    {
     "name": "stdout",
     "output_type": "stream",
     "text": [
      "[[0. 0. 0. 0.]\n",
      " [0. 0. 0. 0.]\n",
      " [0. 0. 0. 0.]]\n"
     ]
    }
   ],
   "source": [
    "#creating a 3,4 array with all zeros\n",
    "b=np.zeros((3,4))\n",
    "print(b)\n",
    "#similarly np.ones,np.full,np.empty"
   ]
  },
  {
   "cell_type": "code",
   "execution_count": 6,
   "id": "cb8963d9",
   "metadata": {},
   "outputs": [
    {
     "name": "stdout",
     "output_type": "stream",
     "text": [
      "[[34. 67.  1.]\n",
      " [89. 54.  3.]]\n"
     ]
    }
   ],
   "source": [
    "c=np.array([[34,67,1],[89,54,3]],dtype='float')\n",
    "print(c)"
   ]
  },
  {
   "cell_type": "code",
   "execution_count": 7,
   "id": "fd60cac1",
   "metadata": {},
   "outputs": [
    {
     "name": "stdout",
     "output_type": "stream",
     "text": [
      "[[7 7 7 7]\n",
      " [7 7 7 7]\n",
      " [7 7 7 7]]\n",
      "[[7.+0.j 7.+0.j 7.+0.j 7.+0.j]\n",
      " [7.+0.j 7.+0.j 7.+0.j 7.+0.j]\n",
      " [7.+0.j 7.+0.j 7.+0.j 7.+0.j]]\n"
     ]
    }
   ],
   "source": [
    "#array (e)of complex datatype\n",
    "d=np.full((3,4),7)\n",
    "print(d)\n",
    "e=np.full((3,4),7,dtype='complex')\n",
    "print(e)"
   ]
  },
  {
   "cell_type": "code",
   "execution_count": 8,
   "id": "66fda203",
   "metadata": {},
   "outputs": [
    {
     "name": "stdout",
     "output_type": "stream",
     "text": [
      "[[0.48559107 0.08842312 0.64420051]\n",
      " [0.23217532 0.75749056 0.96672573]]\n"
     ]
    }
   ],
   "source": [
    "f=np.random.random((2,3))\n",
    "print(f)"
   ]
  },
  {
   "cell_type": "code",
   "execution_count": 9,
   "id": "0211ea4e",
   "metadata": {},
   "outputs": [
    {
     "name": "stdout",
     "output_type": "stream",
     "text": [
      "[ 2  7 12 17 22 27 32]\n"
     ]
    }
   ],
   "source": [
    "#arange(initial point , end point , steps)   function \n",
    "#its a sequential array\n",
    "g=np.arange(2,34,5)\n",
    "print(g)"
   ]
  },
  {
   "cell_type": "code",
   "execution_count": 10,
   "id": "9a811d06",
   "metadata": {},
   "outputs": [
    {
     "name": "stdout",
     "output_type": "stream",
     "text": [
      "[ 0  3  6  9 12 15 18 21]\n",
      "['S' 'h' 'o' 't' 'o' 'k' 'a' 'n' ' ' 'K' 'a' 'r' 'a' 't' 'e']\n"
     ]
    }
   ],
   "source": [
    "#creating array using fromiter()\n",
    "iterable=(a*3 for a in range(8))\n",
    "arr=np.fromiter(iterable,int)\n",
    "print(arr)\n",
    "var=\"Shotokan Karate\"\n",
    "arr2=np.fromiter(var,dtype='U2')#here U2 is the variable length size of data type\n",
    "print(arr2)\n"
   ]
  },
  {
   "cell_type": "code",
   "execution_count": 11,
   "id": "4faf00e3",
   "metadata": {},
   "outputs": [
    {
     "name": "stdout",
     "output_type": "stream",
     "text": [
      "[1.         1.44444444 1.88888889 2.33333333 2.77777778 3.22222222\n",
      " 3.66666667 4.11111111 4.55555556 5.        ]\n"
     ]
    }
   ],
   "source": [
    "#linspace() here it represent 10   values between 1,5\n",
    "h=np.linspace(1,5,10)\n",
    "print(h)"
   ]
  },
  {
   "cell_type": "code",
   "execution_count": 12,
   "id": "685117f4",
   "metadata": {},
   "outputs": [
    {
     "name": "stdout",
     "output_type": "stream",
     "text": [
      "[[[2 1 3]\n",
      "  [5 5 4]]\n",
      "\n",
      " [[6 7 8]\n",
      "  [7 9 1]]]\n"
     ]
    }
   ],
   "source": [
    "#reshape()\n",
    "i=np.array([[2,1,3,5],[5,4,6,7],[8,7,9,1]])\n",
    "nwi=i.reshape(2,2,3) #2,2*3 array\n",
    "print(nwi)"
   ]
  },
  {
   "cell_type": "code",
   "execution_count": 13,
   "id": "c28427a9",
   "metadata": {},
   "outputs": [
    {
     "name": "stdout",
     "output_type": "stream",
     "text": [
      "[[2 1 3 5]\n",
      " [5 4 6 7]\n",
      " [8 7 9 1]]\n",
      "[2 1 3 5 5 4 6 7 8 7 9 1]\n"
     ]
    }
   ],
   "source": [
    "#flatten array\n",
    "j=np.array([[2,1,3,5],[5,4,6,7],[8,7,9,1]])\n",
    "flat_j=j.flatten()\n",
    "print(j)\n",
    "print(flat_j)"
   ]
  },
  {
   "cell_type": "code",
   "execution_count": 14,
   "id": "e071f529",
   "metadata": {},
   "outputs": [
    {
     "name": "stdout",
     "output_type": "stream",
     "text": [
      "[1 2 5 9]\n",
      "By adding 5  to each element [ 6  7 10 14]\n",
      "By multiplying by 4 to each element [ 4  8 20 36]\n",
      "Squaring each element [ 1  4 25 81]\n",
      "[[12 23 45 56]\n",
      " [78 89 90 10]\n",
      " [24 64 86 41]]\n",
      "Transpose of this array [[12 78 24]\n",
      " [23 89 64]\n",
      " [45 90 86]\n",
      " [56 10 41]]\n"
     ]
    }
   ],
   "source": [
    "#arrithmatic operations\n",
    "import numpy as np\n",
    "k=np.array([1,2,5,9])\n",
    "print(k)\n",
    "print(\"By adding 5  to each element\",k+5)\n",
    "print(\"By multiplying by 4 to each element\",k*4)\n",
    "print(\"Squaring each element\",k**2)\n",
    "l=np.array([[12,23,45,56],[78,89,90,10],[24,64,86,41]])\n",
    "print(l)\n",
    "print(\"Transpose of this array\",l.T)"
   ]
  },
  {
   "cell_type": "code",
   "execution_count": 15,
   "id": "02621f35",
   "metadata": {},
   "outputs": [
    {
     "name": "stdout",
     "output_type": "stream",
     "text": [
      "90\n",
      "Row wise maximum element [56 90 86]\n",
      "column wise maximum element [78 89 90 56]\n",
      "Sum array elements 618\n",
      "cumulative sum along row [[ 12  35  80 136]\n",
      " [ 78 167 257 267]\n",
      " [ 24  88 174 215]]\n",
      "cumulative sum along col [[ 12  23  45  56]\n",
      " [ 90 112 135  66]\n",
      " [114 176 221 107]]\n"
     ]
    }
   ],
   "source": [
    "#Unary operators\n",
    "l=np.array([[12,23,45,56],[78,89,90,10],[24,64,86,41]])\n",
    "print(l.max())\n",
    "print(\"Row wise maximum element\",l.max(axis=1))#max element in each row\n",
    "print(\"column wise maximum element\",l.max(axis=0))#max element in each column\n",
    "print(\"Sum array elements\",l.sum())\n",
    "print(\"cumulative sum along row\",l.cumsum(axis=1))\n",
    "print(\"cumulative sum along col\",l.cumsum(axis=0))"
   ]
  },
  {
   "cell_type": "code",
   "execution_count": 16,
   "id": "cc655d88",
   "metadata": {},
   "outputs": [
    {
     "name": "stdout",
     "output_type": "stream",
     "text": [
      "1.5707963267948966\n",
      "3.141592653589793\n",
      "Sine values of array elements [-0.98803162  0.85090352 -0.30481062  0.89399666]\n",
      "[0.0000000e+00 1.0000000e+00 1.2246468e-16]\n",
      "-0.9880316240928618\n",
      "[5.47722558 6.70820393 7.74596669 9.48683298]\n",
      "3\n",
      "0\n"
     ]
    }
   ],
   "source": [
    "#some predefind fun()\n",
    "print(np.pi/2)\n",
    "print(np.pi)\n",
    "a=np.array([30,45,60,90])\n",
    "print(\"Sine values of array elements\",np.sin(a))\n",
    "b=np.array([0,np.pi/2,np.pi])\n",
    "print(np.sin(b))\n",
    "print(np.sin(30))\n",
    "print(np.sqrt(a))\n",
    "print(np.argmax(a)) # IT GIVES THE INDEX OF THE MAXIMUM VALUE IN THE ARRAY\n",
    "print(np.argmin(a))#index of  minimum values of the array\n"
   ]
  },
  {
   "cell_type": "code",
   "execution_count": 17,
   "id": "e91a1e4b",
   "metadata": {},
   "outputs": [
    {
     "name": "stdout",
     "output_type": "stream",
     "text": [
      "Addition of array [[14 24 48 61]\n",
      " [83 93 96 17]\n",
      " [32 71 95 42]]\n",
      "Multiplication of array  [[ 24  23 135 280]\n",
      " [390 356 540  70]\n",
      " [192 448 774  41]]\n",
      "Matrix multiplication [[ 46  16  32]\n",
      " [110  36  62]\n",
      " [158  48  68]]\n"
     ]
    }
   ],
   "source": [
    "#Binary operator\n",
    "j=np.array([[2,1,3,5],[5,4,6,7],[8,7,9,1]])\n",
    "l=np.array([[12,23,45,56],[78,89,90,10],[24,64,86,41]])\n",
    "p=np.array([[12,3,1],[6,2,3],[2,1,4],[2,1,3]])\n",
    "print(\"Addition of array\",j+l)\n",
    "print(\"Multiplication of array \",j*l)\n",
    "print(\"Matrix multiplication\",j.dot(p))#matrix  multiplication of m1(i,j) and m2(p,q) ,here j==p,and the result will be m3(i,q)"
   ]
  },
  {
   "cell_type": "code",
   "execution_count": 18,
   "id": "36ec65fe",
   "metadata": {},
   "outputs": [
    {
     "name": "stdout",
     "output_type": "stream",
     "text": [
      "[1 1 2 3 4 5 5 6 7 7 8 9]\n",
      "[[2 1 3 1]\n",
      " [5 4 6 5]\n",
      " [8 7 9 7]]\n",
      "[[1 2 3 5]\n",
      " [4 5 6 7]\n",
      " [1 7 8 9]]\n",
      "[[2 1 3 1]\n",
      " [5 4 6 5]\n",
      " [8 7 9 7]]\n",
      "[[2 1 3 1]\n",
      " [5 4 6 5]\n",
      " [8 7 9 7]]\n"
     ]
    }
   ],
   "source": [
    "#Array Sorting\n",
    "j=np.array([[2,1,3,5],[5,4,6,7],[8,7,9,1]])\n",
    "\n",
    "print(np.sort(j,axis=None))\n",
    "print(np.sort(j,axis=0))\n",
    "print(np.sort(j,axis=1))\n",
    "print(np.sort(j,axis=0,kind='quicksort'))\n",
    "print(np.sort(j,axis=0,kind='mergesort'))"
   ]
  },
  {
   "cell_type": "code",
   "execution_count": 3,
   "id": "9a43afa6",
   "metadata": {},
   "outputs": [
    {
     "name": "stdout",
     "output_type": "stream",
     "text": [
      "[(b'Aryan', 2024, 7.9) (b'Anshum', 2014, 8. ) (b'Prabhu', 2024, 7.9)\n",
      " (b'Ankit', 2024, 8.9)]\n",
      "Sort by name [(b'Ankit', 2024, 8.9) (b'Anshum', 2014, 8. ) (b'Aryan', 2024, 7.9)\n",
      " (b'Prabhu', 2024, 7.9)]\n",
      "Sort by grade_year and cgpa [(b'Anshum', 2014, 8. ) (b'Aryan', 2024, 7.9) (b'Prabhu', 2024, 7.9)\n",
      " (b'Ankit', 2024, 8.9)]\n"
     ]
    }
   ],
   "source": [
    "#sorting of structured array\n",
    "import numpy as np\n",
    "dtypes=[('name','S6'),('grade_year',int),('cgpa',float)]# here S8 is definf the the length limit of the string \n",
    "values=[('Aryan',2024,7.90),('Anshuman',2014,8.0),('Prabhujit',2024,7.9),('Ankit',2024,8.9)]\n",
    "nwarr=np.array(values,dtype=dtypes)\n",
    "print(nwarr)\n",
    "print(\"Sort by name\",np.sort(nwarr,order='name'))\n",
    "print(\"Sort by grade_year and cgpa\",np.sort(nwarr,order=['grade_year','cgpa']))"
   ]
  },
  {
   "cell_type": "code",
   "execution_count": 20,
   "id": "b7910e22",
   "metadata": {},
   "outputs": [
    {
     "data": {
      "text/plain": [
       "[<matplotlib.lines.Line2D at 0x2baf56ac1d0>]"
      ]
     },
     "execution_count": 20,
     "metadata": {},
     "output_type": "execute_result"
    },
    {
     "data": {
      "image/png": "[encoded data removed]",
      "text/plain": [
       "<Figure size 640x480 with 1 Axes>"
      ]
     },
     "metadata": {},
     "output_type": "display_data"
    }
   ],
   "source": [
    "import numpy as np \n",
    "import pylab as p   #Graphical representation of numpy.linspace()  using pylab \n",
    "x=np.linspace(0,2,10,endpoint=False)\n",
    "y=np.ones(10)\n",
    "p.plot(x,y,'*')\n",
    "#p.xlim(0.0,1.8)\n",
    "#p.ylim(0.2,2.0) #Hve some doubt"
   ]
  },
  {
   "cell_type": "code",
   "execution_count": 21,
   "id": "a3c6ddfb",
   "metadata": {},
   "outputs": [
    {
     "name": "stdout",
     "output_type": "stream",
     "text": [
      "[[1. 0.]\n",
      " [0. 1.]]\n",
      "[[0 0 0 0 0]\n",
      " [1 0 0 0 0]\n",
      " [0 1 0 0 0]\n",
      " [0 0 1 0 0]]\n"
     ]
    }
   ],
   "source": [
    "#numpy.eye()\n",
    "a=np.eye(2,dtype=float)# here only 2 written means its a 2,2 matrix or array\n",
    "print(a)\n",
    "b=np.eye(4,5,k=-1,dtype=int) #k=0(bydefault) k<0(below the main diagonal) k>o(above the main diagonal)\n",
    "print(b)"
   ]
  },
  {
   "cell_type": "code",
   "execution_count": 22,
   "id": "bee12f0e",
   "metadata": {},
   "outputs": [],
   "source": [
    "#Meshgrid function"
   ]
  },
  {
   "cell_type": "code",
   "execution_count": 23,
   "id": "7c2a5d1a",
   "metadata": {},
   "outputs": [
    {
     "name": "stdout",
     "output_type": "stream",
     "text": [
      "[[7. 7. 7. 7.]\n",
      " [7. 7. 7. 7.]\n",
      " [7. 7. 7. 7.]]\n"
     ]
    }
   ],
   "source": [
    "import numpy as np  #ITS LIKE A ARRAY OF RANDOM VALUES OF DIFFERENT SIZE\n",
    "a=np.empty((3,4))\n",
    "print(a)"
   ]
  },
  {
   "cell_type": "code",
   "execution_count": 24,
   "id": "067bb906",
   "metadata": {},
   "outputs": [
    {
     "name": "stdout",
     "output_type": "stream",
     "text": [
      "[[5 5 5 5]\n",
      " [5 5 5 5]\n",
      " [5 5 5 5]]\n",
      "[[5 5 5 5]\n",
      " [5 5 5 5]\n",
      " [5 5 5 5]]\n"
     ]
    }
   ],
   "source": [
    "b=np.full((3,4),5)\n",
    "print(b)  #its build an array of predefind values\n",
    "c=np.full([3,4],5)\n",
    "print(c)            #NOTE THERE IS NOTHING DIFFERENT HERE"
   ]
  },
  {
   "cell_type": "code",
   "execution_count": 27,
   "id": "32489738",
   "metadata": {},
   "outputs": [
    {
     "name": "stdout",
     "output_type": "stream",
     "text": [
      "[[34 65 21 87]\n",
      " [12 72 48 19]\n",
      " [56 15 43 90]]\n",
      "[[34 65 21 87]\n",
      " [12 72 48 19]\n",
      " [56 15 43 90]]\n",
      "[[34 65 21 87]\n",
      " [12 72 48 19]\n",
      " [56 15 43 90]]\n"
     ]
    }
   ],
   "source": [
    "arr=np.array([[34,65,21,87],[12,72,48,19],[56,15,43,90]])\n",
    "copy=np.empty_like(arr)\n",
    "copy[:]=arr\n",
    "print(arr)\n",
    "print(copy)\n",
    "copy2=np.copy(arr)  #Another method of copying\n",
    "print(copy2)"
   ]
  },
  {
   "cell_type": "code",
   "execution_count": 30,
   "id": "8f9768d8",
   "metadata": {},
   "outputs": [
    {
     "name": "stdout",
     "output_type": "stream",
     "text": [
      "[[34 65 21 87]\n",
      " [12 72 48 19]\n",
      " [56 15 43 90]]\n",
      "[[34 65 21 87]\n",
      " [12 72 48 19]\n",
      " [56 15  0 90]]\n"
     ]
    }
   ],
   "source": [
    "#Assigning values\n",
    "org_arr=np.array([[34,65,21,87],[12,72,48,19],[56,15,43,90]])\n",
    "copy_arr=org_arr\n",
    "print(copy_arr)\n",
    "org_arr[2,2]=0\n",
    "print(org_arr)"
   ]
  },
  {
   "cell_type": "code",
   "execution_count": 34,
   "id": "d4621a99",
   "metadata": {},
   "outputs": [
    {
     "name": "stdout",
     "output_type": "stream",
     "text": [
      "1 3 [2, 6] 5 \r\n",
      "1 3 [2, 0] 5 \r\n",
      "1 3 [2, 6] 5 "
     ]
    }
   ],
   "source": [
    "#Deep copy and shallow copy\n",
    "#importing copy module\n",
    "import copy\n",
    "li1=[1,3,[2,6],5]\n",
    "li2=copy.deepcopy(li1)\n",
    "for i in range(0,len(li1)):\n",
    "    print(li1[i],end=\" \")\n",
    "\n",
    "print(\"\\r\")\n",
    "li2[2][1]=0\n",
    "for i in range(0,len(li2)):\n",
    "    print(li2[i],end=\" \")\n",
    "\n",
    "print(\"\\r\")\n",
    "    \n",
    "for i in range(0,len(li1)):\n",
    "    print(li1[i],end=\" \")    \n",
    "#in deepcopy changes in duplicate copy will not reflected in the original values"
   ]
  },
  {
   "cell_type": "code",
   "execution_count": 35,
   "id": "e13e6875",
   "metadata": {},
   "outputs": [
    {
     "name": "stdout",
     "output_type": "stream",
     "text": [
      "1 3 [2, 6] 5 \r\n",
      "1 3 [2, 0] 5 \r\n",
      "1 3 [2, 0] 5 "
     ]
    }
   ],
   "source": [
    "import copy\n",
    "li1=[1,3,[2,6],5]\n",
    "li2=copy.copy(li1)\n",
    "for i in range(0,len(li1)):\n",
    "    print(li1[i],end=\" \")\n",
    "\n",
    "print(\"\\r\")\n",
    "li2[2][1]=0\n",
    "for i in range(0,len(li2)):\n",
    "    print(li2[i],end=\" \")\n",
    "\n",
    "print(\"\\r\")\n",
    "    \n",
    "for i in range(0,len(li1)):\n",
    "    print(li1[i],end=\" \") \n",
    "#Here in shallow copy the changes in dupicate object values will reflect in the original object values"
   ]
  },
  {
   "cell_type": "code",
   "execution_count": 37,
   "id": "a3e34f4d",
   "metadata": {},
   "outputs": [
    {
     "name": "stdout",
     "output_type": "stream",
     "text": [
      "[1 2 3 4 5 6]\n"
     ]
    }
   ],
   "source": [
    "#Appending in array\n",
    "arr1=np.array([1,2,3])\n",
    "arr2=np.array([4,5,6])\n",
    "nwarr=np.append(arr1,arr2)\n",
    "print(nwarr)"
   ]
  },
  {
   "cell_type": "code",
   "execution_count": 39,
   "id": "45e0c5ad",
   "metadata": {},
   "outputs": [
    {
     "name": "stdout",
     "output_type": "stream",
     "text": [
      "[[ 5  6  7  8  9 10]]\n",
      "[[ 1  2  3  4  5  6]\n",
      " [ 7  8  9 10 11 12]\n",
      " [ 5  6  7  8  9 10]]\n",
      "[[1]\n",
      " [2]]\n",
      "[[ 1  2  3  4  5  6  1]\n",
      " [ 7  8  9 10 11 12  2]]\n"
     ]
    }
   ],
   "source": [
    "import numpy as np\n",
    "arr=np.arange(1,13).reshape(2,6)\n",
    "#append column wise\n",
    "col=np.arange(5,11).reshape(1,6)\n",
    "print(col)\n",
    "arr_col=np.append(arr,col,axis=0) #append arr to col\n",
    "print(arr_col)\n",
    "row=np.array([1,2]).reshape(2,1)\n",
    "print(row)\n",
    "arr_row=np.append(arr,row,axis=1)#append arr to row\n",
    "print(arr_row)"
   ]
  },
  {
   "cell_type": "code",
   "execution_count": 42,
   "id": "72841b64",
   "metadata": {},
   "outputs": [
    {
     "name": "stdout",
     "output_type": "stream",
     "text": [
      "[[ 7 10]\n",
      " [15 22]]\n",
      "[[ 7 10]\n",
      " [15 22]]\n"
     ]
    }
   ],
   "source": [
    "a = np.matrix([[1, 2],\n",
    "             [3, 4]])\n",
    "b = np.matrix([[1, 2],\n",
    "             [3, 4]])\n",
    "d=a*b\n",
    "c=a.dot(b)\n",
    "print(c)\n",
    "print(d)  #Multiplication through matrix method and (np.matrix)format"
   ]
  },
  {
   "cell_type": "code",
   "execution_count": 48,
   "id": "655daff8",
   "metadata": {},
   "outputs": [
    {
     "name": "stdout",
     "output_type": "stream",
     "text": [
      "Inverse of a matrix [[-2.          1.        ]\n",
      " [ 1.66666667 -0.66666667]]\n",
      "\r\n",
      "Inverse of a matrix [[-2.          1.        ]\n",
      " [ 1.66666667 -0.66666667]]\n"
     ]
    }
   ],
   "source": [
    "#Inverse of a matrix or  2d array (whose determinant is not 0 can be invertible)\n",
    "a=np.array([[2,3],[5,6]])\n",
    "print(\"Inverse of a matrix\",np.linalg.inv(a))\n",
    "print(\"\\r\")\n",
    "b=np.matrix([[2,3],[5,6]])\n",
    "print(\"Inverse of a matrix\",b.I)"
   ]
  },
  {
   "cell_type": "code",
   "execution_count": 5,
   "id": "7e6ed430",
   "metadata": {},
   "outputs": [
    {
     "name": "stdout",
     "output_type": "stream",
     "text": [
      "Original array :\n",
      "[[ 0  1  2]\n",
      " [ 3  4  5]\n",
      " [ 6  7  8]\n",
      " [ 9 10 11]]\n",
      "Array after swap\n",
      "[[ 2  0  2]\n",
      " [ 5  3  5]\n",
      " [ 8  6  8]\n",
      " [11  9 11]]\n",
      "[[ 0  2  2]\n",
      " [ 3  5  5]\n",
      " [ 6  8  8]\n",
      " [ 9 11 11]]\n"
     ]
    }
   ],
   "source": [
    "#Swapping between columns\n",
    "import numpy as np\n",
    "my_arr=np.arange(12).reshape(4,3)\n",
    "print(\"Original array :\")\n",
    "print(my_arr)\n",
    "my_arr[:,[0,1]]=my_arr[:,[2,0]]# In all rows at the place of 0th and 1st column replace by 2nd and 0th column respectively\n",
    "print(\"Array after swap\")\n",
    "print(my_arr)\n",
    "\n",
    "\n",
    "\n",
    "#by user choice\n",
    "def swap(arr,start_index,last_index):\n",
    "    arr[:,[start_index,last_index]]=arr[:,[last_index,start_index]]\n",
    "swap(my_arr,0,1)\n",
    "print(my_arr)"
   ]
  },
  {
   "cell_type": "code",
   "execution_count": 4,
   "id": "3f278c6d",
   "metadata": {},
   "outputs": [
    {
     "name": "stdout",
     "output_type": "stream",
     "text": [
      "['aryan' 'barik']\n",
      "aryan\n"
     ]
    }
   ],
   "source": [
    "#string operation using numpy\n",
    "import numpy as np\n",
    "print(np.char.lower(['Aryan','Barik']))\n",
    "print(np.char.lower('Aryan'))"
   ]
  },
  {
   "cell_type": "code",
   "execution_count": 16,
   "id": "974979e9",
   "metadata": {},
   "outputs": [
    {
     "name": "stdout",
     "output_type": "stream",
     "text": [
      "['Aryan', 'Barik']\n",
      "[list(['Aryan']) list(['Barik'])]\n",
      "['Aryan', ' Barik']\n",
      "['geeks', ' for', ' geeks']\n"
     ]
    }
   ],
   "source": [
    "print(np.char.split('Aryan Barik'))\n",
    "print(np.char.split(['Aryan','Barik']),sep=',')\n",
    "print(np.char.split('Aryan, Barik',sep=',')) #mark the equality\n",
    "print(np.char.split('geeks, for, geeks', sep = ','))\n"
   ]
  },
  {
   "cell_type": "code",
   "execution_count": 18,
   "id": "0679e476",
   "metadata": {},
   "outputs": [
    {
     "name": "stdout",
     "output_type": "stream",
     "text": [
      "A-R-Y-A-N\n",
      "['A*R*Y*A*N' 'B#A#R#I#K']\n"
     ]
    }
   ],
   "source": [
    "print(np.char.join('-','ARYAN'))\n",
    "print(np.char.join(['*','#'],['ARYAN','BARIK']))"
   ]
  },
  {
   "cell_type": "code",
   "execution_count": 19,
   "id": "0678f1ab",
   "metadata": {},
   "outputs": [
    {
     "name": "stdout",
     "output_type": "stream",
     "text": [
      "[1 0 1]\n",
      "[0 1 0]\n"
     ]
    }
   ],
   "source": [
    "import numpy as np\n",
    " \n",
    "a=np.array(['geeks', 'for', 'geeks'])\n",
    " \n",
    "# counting a substring\n",
    "print(np.char.count(a,'geek'))\n",
    " \n",
    "# counting a substring\n",
    "print(np.char.count(a, 'fo'))\n",
    "\n",
    "#np.char.rfind()"
   ]
  },
  {
   "cell_type": "raw",
   "id": "2a3fdb5e",
   "metadata": {},
   "source": []
  },
  {
   "cell_type": "code",
   "execution_count": 25,
   "id": "c4b83c06",
   "metadata": {},
   "outputs": [
    {
     "name": "stdout",
     "output_type": "stream",
     "text": [
      "[[[[0.]\n",
      "   [0.]\n",
      "   [0.]\n",
      "   [0.]]\n",
      "\n",
      "  [[0.]\n",
      "   [0.]\n",
      "   [0.]\n",
      "   [0.]]\n",
      "\n",
      "  [[0.]\n",
      "   [0.]\n",
      "   [0.]\n",
      "   [0.]]]\n",
      "\n",
      "\n",
      " [[[0.]\n",
      "   [0.]\n",
      "   [0.]\n",
      "   [0.]]\n",
      "\n",
      "  [[0.]\n",
      "   [0.]\n",
      "   [0.]\n",
      "   [0.]]\n",
      "\n",
      "  [[0.]\n",
      "   [0.]\n",
      "   [0.]\n",
      "   [0.]]]]\n",
      "(2, 3, 4, 1)\n"
     ]
    }
   ],
   "source": [
    "import numpy as geek\n",
    "  \n",
    "arr = geek.zeros((1, 2, 3, 4))\n",
    "  \n",
    "gfg = geek.moveaxis(arr, 0, -1)\n",
    "fgf=geek.moveaxis(arr, 0, -1).shape\n",
    "  \n",
    "print (gfg)\n",
    "print(fgf)"
   ]
  },
  {
   "cell_type": "code",
   "execution_count": 2,
   "id": "76f821a9",
   "metadata": {},
   "outputs": [
    {
     "name": "stdout",
     "output_type": "stream",
     "text": [
      "[[1 2]\n",
      " [3 4]\n",
      " [5 6]]\n",
      "[[1 3 5]\n",
      " [2 4 6]]\n"
     ]
    }
   ],
   "source": [
    "#swapping between two axes of an array\n",
    "import numpy as np\n",
    "arr=np.array([[1,2],[3,4],[5,6]])\n",
    "print(arr)\n",
    "arr1=np.swapaxes(arr,0,1)\n",
    "print(arr1)"
   ]
  },
  {
   "cell_type": "code",
   "execution_count": 3,
   "id": "278b3086",
   "metadata": {},
   "outputs": [
    {
     "name": "stdout",
     "output_type": "stream",
     "text": [
      "[[0. 1. 2.]\n",
      " [3. 4. 5.]\n",
      " [6. 7. 8.]]\n",
      "[array([[0., 1., 2.],\n",
      "       [3., 4., 5.],\n",
      "       [6., 7., 8.]])]\n"
     ]
    }
   ],
   "source": [
    "import numpy as geek\n",
    "\n",
    "\n",
    "arr = geek.arange(9.0).reshape(3, 3)\n",
    "print(arr)\n",
    "\n",
    "gfg = geek.vsplit(arr, 1)\n",
    "\n",
    "print (gfg)"
   ]
  },
  {
   "cell_type": "code",
   "execution_count": 3,
   "id": "c772b94e",
   "metadata": {},
   "outputs": [
    {
     "name": "stdout",
     "output_type": "stream",
     "text": [
      "[10  8  6  4  2]\n",
      "[2 8 6]\n"
     ]
    }
   ],
   "source": [
    "#advance slicing method\n",
    "import numpy as np\n",
    "a=np.arange(10,1,-2)\n",
    "print(a)\n",
    "nearr=a[np.array([4,1,2])]#element of indexs of 4,1,2\n",
    "print(nearr)"
   ]
  },
  {
   "cell_type": "code",
   "execution_count": 5,
   "id": "256af862",
   "metadata": {},
   "outputs": [
    {
     "name": "stdout",
     "output_type": "stream",
     "text": [
      "[[[ 1  2  3]\n",
      "  [ 4  5  6]]\n",
      "\n",
      " [[ 7  8  9]\n",
      "  [10 11 12]]]\n",
      "[[ 2  5]\n",
      " [ 8 11]]\n"
     ]
    }
   ],
   "source": [
    "import numpy as np #have doubt\n",
    " \n",
    "# A 3 dimensional array.\n",
    "b = np.array([[[1, 2, 3],[4, 5, 6]],\n",
    "            [[7, 8, 9],[10, 11, 12]]])\n",
    "print(b)\n",
    "print(b[...,1]) #Equivalent to b[: ,: ,1 ]"
   ]
  },
  {
   "cell_type": "code",
   "execution_count": 6,
   "id": "c7b76e25",
   "metadata": {},
   "outputs": [
    {
     "name": "stdout",
     "output_type": "stream",
     "text": [
      "4.5\n",
      "1\n"
     ]
    }
   ],
   "source": [
    "print(9/2)\n",
    "print(9%2)"
   ]
  },
  {
   "cell_type": "code",
   "execution_count": 1,
   "id": "ea287521",
   "metadata": {},
   "outputs": [
    {
     "ename": "ModuleNotFoundError",
     "evalue": "No module named 'sklearn.datsets'",
     "output_type": "error",
     "traceback": [
      "\u001b[1;31m---------------------------------------------------------------------------\u001b[0m",
      "\u001b[1;31mModuleNotFoundError\u001b[0m                       Traceback (most recent call last)",
      "Cell \u001b[1;32mIn[1], line 1\u001b[0m\n\u001b[1;32m----> 1\u001b[0m \u001b[38;5;28;01mfrom\u001b[39;00m \u001b[38;5;21;01msklearn\u001b[39;00m\u001b[38;5;21;01m.\u001b[39;00m\u001b[38;5;21;01mdatsets\u001b[39;00m \u001b[38;5;28;01mimport\u001b[39;00m load_iris\n\u001b[0;32m      2\u001b[0m iris\u001b[38;5;241m=\u001b[39mload_iris()\n\u001b[0;32m      4\u001b[0m x\u001b[38;5;241m=\u001b[39miris\u001b[38;5;241m.\u001b[39mdata\n",
      "\u001b[1;31mModuleNotFoundError\u001b[0m: No module named 'sklearn.datsets'"
     ]
    }
   ],
   "source": [
    "from sklearn.datsets import load_iris\n",
    "iris=load_iris()\n",
    "\n",
    "x=iris.data\n",
    "y=iris.target\n",
    "\n",
    "feature_names= iris.feature_names\n",
    "target_na"
   ]
  },
  {
   "cell_type": "code",
   "execution_count": 2,
   "id": "96a5e49c",
   "metadata": {},
   "outputs": [
    {
     "name": "stdout",
     "output_type": "stream",
     "text": [
      "Random 2D Array:\n",
      "[[24 98  1 38 13]\n",
      " [65 84 84 48 90]\n",
      " [86 10 90 73 14]\n",
      " [63 55 77  4 29]\n",
      " [46 18 90 30 63]]\n",
      "\n",
      "Flattened 1D Array:\n",
      "[24 98  1 38 13 65 84 84 48 90 86 10 90 73 14 63 55 77  4 29 46 18 90 30\n",
      " 63]\n",
      "\n",
      "Transposed 2D Array:\n",
      "[[24 65 86 63 46]\n",
      " [98 84 10 55 18]\n",
      " [ 1 84 90 77 90]\n",
      " [38 48 73  4 30]\n",
      " [13 90 14 29 63]]\n",
      "\n",
      "Squared 2D Array:\n",
      "[[ 576 9604    1 1444  169]\n",
      " [4225 7056 7056 2304 8100]\n",
      " [7396  100 8100 5329  196]\n",
      " [3969 3025 5929   16  841]\n",
      " [2116  324 8100  900 3969]]\n",
      "\n",
      "Mean of Each Row:\n",
      "[34.8 74.2 54.6 45.6 49.4]\n",
      "\n",
      "Sum of Each Column:\n",
      "[284 265 342 193 209]\n"
     ]
    }
   ],
   "source": [
    "import numpy as np\n",
    "\n",
    "# Creating a 2D array with random integers\n",
    "data = np.random.randint(0, 100, (5, 5))\n",
    "print(\"Random 2D Array:\")\n",
    "print(data)\n",
    "print()\n",
    "\n",
    "# Reshaping the array to a 1D array\n",
    "flattened_data = data.flatten()\n",
    "print(\"Flattened 1D Array:\")\n",
    "print(flattened_data)\n",
    "print()\n",
    "\n",
    "# Transposing the array\n",
    "transposed_data = data.T\n",
    "print(\"Transposed 2D Array:\")\n",
    "print(transposed_data)\n",
    "print()\n",
    "\n",
    "# Performing element-wise mathematical operations\n",
    "squared_data = np.square(data)\n",
    "print(\"Squared 2D Array:\")\n",
    "print(squared_data)\n",
    "print()\n",
    "\n",
    "# Computing the mean of each row\n",
    "row_means = np.mean(data, axis=1)\n",
    "print(\"Mean of Each Row:\")\n",
    "print(row_means)\n",
    "print()\n",
    "\n",
    "# Computing the sum of each column\n",
    "column_sums = np.sum(data, axis=0)\n",
    "print(\"Sum of Each Column:\")\n",
    "print(column_sums)\n"
   ]
  },
  {
   "cell_type": "code",
   "execution_count": 1,
   "id": "a8de4a01",
   "metadata": {},
   "outputs": [
    {
     "name": "stdout",
     "output_type": "stream",
     "text": [
      "0 1 0 1 0 1 0 1 \n",
      "1 0 1 0 1 0 1 0 \n",
      "0 1 0 1 0 1 0 1 \n",
      "1 0 1 0 1 0 1 0 \n",
      "0 1 0 1 0 1 0 1 \n",
      "1 0 1 0 1 0 1 0 \n",
      "0 1 0 1 0 1 0 1 \n",
      "1 0 1 0 1 0 1 0 \n"
     ]
    }
   ],
   "source": [
    "#How to print the checkerboard pattern of nxn using NumPy?\n",
    "import numpy as np\n",
    "\n",
    "n = 8\n",
    "\n",
    "# Create a nxn matrix filled with 0\n",
    "matrix = np.zeros((n, n), dtype=int)\n",
    "\n",
    "# fill 1 with alternate rows and column\n",
    "matrix[::2, 1::2] = 1\n",
    "matrix[1::2, ::2] = 1\n",
    "\n",
    "# Print the checkerboard pattern\n",
    "for i in range(n):\n",
    "    for j in range(n):\n",
    "        print(matrix[i][j], end=\" \")\n",
    "    print()"
   ]
  },
  {
   "cell_type": "code",
   "execution_count": 2,
   "id": "8d8592ee",
   "metadata": {},
   "outputs": [
    {
     "name": "stdout",
     "output_type": "stream",
     "text": [
      "Addition of matrices:\n",
      "[6, 8]\n",
      "[10, 12]\n",
      "\n",
      "Subtraction of matrices:\n",
      "[-4, -4]\n",
      "[-4, -4]\n"
     ]
    }
   ],
   "source": [
    "#add and subtract matrices in Python without using any inbuilt methods like those provided by NumPy\n",
    "# Function to add two matrices\n",
    "def add_matrices(matrix1, matrix2):\n",
    "    result = []\n",
    "    for i in range(len(matrix1)):\n",
    "        row = []\n",
    "        for j in range(len(matrix1[0])):\n",
    "            row.append(matrix1[i][j] + matrix2[i][j])\n",
    "        result.append(row)\n",
    "    return result\n",
    "\n",
    "# Function to subtract two matrices\n",
    "def subtract_matrices(matrix1, matrix2):\n",
    "    result = []\n",
    "    for i in range(len(matrix1)):\n",
    "        row = []\n",
    "        for j in range(len(matrix1[0])):\n",
    "            row.append(matrix1[i][j] - matrix2[i][j])\n",
    "        result.append(row)\n",
    "    return result\n",
    "\n",
    "# Define two matrices\n",
    "matrix1 = [[1, 2], [3, 4]]\n",
    "matrix2 = [[5, 6], [7, 8]]\n",
    "\n",
    "# Add the matrices\n",
    "addition_result = add_matrices(matrix1, matrix2)\n",
    "\n",
    "# Subtract the matrices\n",
    "subtraction_result = subtract_matrices(matrix1, matrix2)\n",
    "\n",
    "# Print the results\n",
    "print(\"Addition of matrices:\")\n",
    "for row in addition_result:\n",
    "    print(row)\n",
    "\n",
    "print(\"\\nSubtraction of matrices:\")\n",
    "for row in subtraction_result:\n",
    "    print(row)\n"
   ]
  },
  {
   "cell_type": "code",
   "execution_count": null,
   "id": "25f84ba3",
   "metadata": {},
   "outputs": [],
   "source": []
  }
 ],
 "metadata": {
  "kernelspec": {
   "display_name": "Python 3 (ipykernel)",
   "language": "python",
   "name": "python3"
  },
  "language_info": {
   "codemirror_mode": {
    "name": "ipython",
    "version": 3
   },
   "file_extension": ".py",
   "mimetype": "text/x-python",
   "name": "python",
   "nbconvert_exporter": "python",
   "pygments_lexer": "ipython3",
   "version": "3.11.4"
  }
 },
 "nbformat": 4,
 "nbformat_minor": 5
}
